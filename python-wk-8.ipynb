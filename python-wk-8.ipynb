{
 "cells": [
  {
   "cell_type": "code",
   "execution_count": 11,
   "id": "38dd9cf4-bed5-46b5-9adc-e391d56ef46e",
   "metadata": {},
   "outputs": [],
   "source": [
    "import pandas as pd\n",
    "import urllib.request\n",
    "import numpy as np\n",
    "import matplotlib.pyplot as plt\n",
    "import seaborn as sns\n",
    "import warnings\n",
    "import plotly.express as px"
   ]
  },
  {
   "cell_type": "code",
   "execution_count": null,
   "id": "19fbf36d-b9a5-4b62-9802-9298b357ada3",
   "metadata": {},
   "outputs": [],
   "source": [
    "url = \"https://covid.ourworldindata.org/data/owid-covid-data.csv\"\n",
    "urllib.request.urlretrieve(url, \"owid-covid-data.csv\")  # save file locally\n",
    "\n",
    "df = pd.read_csv(\"owid-covid-data.csv\")\n",
    "print(df.head())"
   ]
  },
  {
   "cell_type": "code",
   "execution_count": null,
   "id": "7950cd0b-3bcd-48a6-925c-43ef7f001ecc",
   "metadata": {},
   "outputs": [],
   "source": [
    "df.columns\n"
   ]
  },
  {
   "cell_type": "code",
   "execution_count": null,
   "id": "4cab00a7-97da-461b-bf1e-3e894237435e",
   "metadata": {},
   "outputs": [],
   "source": [
    " df.head()"
   ]
  },
  {
   "cell_type": "code",
   "execution_count": null,
   "id": "000ddc40-9c27-4891-93e4-3f8420c2a1b5",
   "metadata": {},
   "outputs": [],
   "source": [
    " df.isnull().sum()\n"
   ]
  },
  {
   "cell_type": "code",
   "execution_count": null,
   "id": "ce79429b-03e8-4c32-b52d-fb105bc49f00",
   "metadata": {},
   "outputs": [],
   "source": [
    "# Filter countries of interest\n",
    "countries = ['Kenya', 'United States', 'India']\n",
    "df_filtered = df[df['location'].isin(countries)].copy()\n",
    "# Drop rows with missing dates or critical values (e.g., total_cases or\n",
    "↪total_deaths)\n",
    "df_filtered.dropna(subset=['date', 'total_cases', 'total_deaths'], inplace=True)\n",
    "# Convert date column to date time\n",
    "df_filtered['date'] = pd.to_datetime(df_filtered['date'])\n",
    "# Sort by country and date before interpolation\n",
    "df_filtered.sort_values(by=['location', 'date'], inplace=True)\n",
    "# Handle missing numeric values by interpolating only numeric columns\n",
    "numeric_cols = df_filtered.select_dtypes(include=['number']).columns\n",
    "df_filtered[numeric_cols] = df_filtered[numeric_cols].\n",
    "↪interpolate(method='linear')\n",
    "# Confirm result\n",
    "print(df_filtered.head())\n"
   ]
  },
  {
   "cell_type": "code",
   "execution_count": null,
   "id": "b31e102b-8992-4e25-aac3-5cd7fdd24fbb",
   "metadata": {},
   "outputs": [],
   "source": [
    "# Filter countries\n",
    "countries = ['Kenya', 'United States', 'India']\n",
    "df = df[df['location'].isin(countries)].copy()\n",
    "# Clean data\n",
    "df = df[['location', 'date', 'total_cases', 'new_cases', 'total_deaths']]\n",
    "df.dropna(subset=['date'], inplace=True)\n",
    "df['date'] = pd.to_datetime(df['date'])\n",
    "df.sort_values(by=['location', 'date'], inplace=True)\n",
    "df[['total_cases', 'new_cases', 'total_deaths']] = df[['total_cases',\n",
    "'new_cases', 'total_deaths']].interpolate()"
   ]
  },
  {
   "cell_type": "code",
   "execution_count": null,
   "id": "3817e118-bf0f-4f55-bed7-893cc32562c1",
   "metadata": {},
   "outputs": [],
   "source": [
    "plt.figure(figsize=(12, 6))\n",
    "sns.lineplot(data=df, x='date', y='total_cases', hue='location')\n",
    "plt.title('Total COVID-19 Cases Over Time')\n",
    "plt.xlabel('Date')\n",
    "plt.ylabel('Total Cases')\n",
    "plt.tight_layout()\n",
    "plt.show()"
   ]
  },
  {
   "cell_type": "code",
   "execution_count": null,
   "id": "e4ad6354-3601-45a2-aa02-18db1410f620",
   "metadata": {},
   "outputs": [],
   "source": [
    "plt.figure(figsize=(12, 6))\n",
    "sns.lineplot(data=df, x='date', y='total_deaths', hue='location')\n",
    "plt.title('Total COVID-19 Deaths Over Time')\n",
    "plt.xlabel('Date')\n",
    "plt.ylabel('Total Deaths')\n",
    "plt.tight_layout()\n",
    "plt.show()"
   ]
  },
  {
   "cell_type": "code",
   "execution_count": null,
   "id": "0f135525-93e1-49f2-b39c-48bf4ec8964d",
   "metadata": {},
   "outputs": [],
   "source": [
    "plt.figure(figsize=(12, 6))\n",
    "sns.lineplot(data=df, x='date', y='new_cases', hue='location')\n",
    "plt.title('Daily New COVID-19 Cases Comparison')\n",
    "plt.xlabel('Date')\n",
    "plt.ylabel('New Cases')\n",
    "plt.tight_layout()\n",
    "plt.show()"
   ]
  },
  {
   "cell_type": "code",
   "execution_count": null,
   "id": "51e9346f-20ff-4ec6-be44-1da7954586a1",
   "metadata": {},
   "outputs": [],
   "source": [
    "df['death_rate'] = df['total_deaths'] / df['total_cases']\n",
    "plt.figure(figsize=(12, 6))\n",
    "sns.lineplot(data=df, x='date', y='death_rate', hue='location')\n",
    "plt.title('COVID-19 Death Rate Over Time')\n",
    "plt.xlabel('Date')\n",
    "plt.ylabel('Death Rate')\n",
    "plt.tight_layout()\n",
    "plt.show()\n"
   ]
  },
  {
   "cell_type": "code",
   "execution_count": null,
   "id": "130c54e5-a396-45b2-a85d-5d61dbf81f72",
   "metadata": {},
   "outputs": [],
   "source": [
    " url = \"https://covid.ourworldindata.org/data/owid-covid-data.csv\"\n",
    "df = pd.read_csv(url)\n",
    "# Filter relevant countries\n",
    "countries = ['Kenya', 'United States', 'India']\n",
    "df_vax = df[df['location'].isin(countries)][[\n",
    "'location', 'date', 'total_vaccinations', 'people_vaccinated_per_hundred',␣\n",
    "↪'population'\n",
    "]].copy()\n",
    "# Clean up\n",
    "df_vax.dropna(subset=['date'], inplace=True)\n",
    "df_vax['date'] = pd.to_datetime(df_vax['date'])\n",
    "df_vax.sort_values(by=['location', 'date'], inplace=True)\n",
    "df_vax[['total_vaccinations', 'people_vaccinated_per_hundred']] = df_vax[[\n",
    "'total_vaccinations', 'people_vaccinated_per_hundred'\n",
    "]].interpolate()\n",
    "plt.figure(figsize=(12, 6))\n",
    "sns.lineplot(data=df_vax, x='date', y='total_vaccinations', hue='location')\n",
    "plt.title('Cumulative COVID-19 Vaccinations Over Time')\n",
    "plt.xlabel('Date')\n",
    "plt.ylabel('Total Vaccinations')\n",
    "plt.tight_layout()\n",
    "plt.show()\n"
   ]
  },
  {
   "cell_type": "code",
   "execution_count": null,
   "id": "193bf1e2-5e06-4465-aef2-fe3b48166e9e",
   "metadata": {},
   "outputs": [],
   "source": [
    "plt.figure(figsize=(12, 6))\n",
    "sns.lineplot(data=df_vax, x='date', y='people_vaccinated_per_hundred',␣\n",
    "↪hue='location')\n",
    "plt.title('% of Population Vaccinated Over Time')\n",
    "plt.xlabel('Date')\n",
    "plt.ylabel('People Vaccinated per 100')\n",
    "plt.tight_layout()\n",
    "plt.show()"
   ]
  },
  {
   "cell_type": "code",
   "execution_count": null,
   "id": "9972d3c3-413a-4acb-8204-51636daf71c1",
   "metadata": {},
   "outputs": [],
   "source": [
    "# Get the most recent vaccination percentage\n",
    "latest_vax = df_vax.sort_values('date').groupby('location').tail(1)\n",
    "for _, row in latest_vax.iterrows():\n",
    "vaccinated = row['people_vaccinated_per_hundred']\n",
    "unvaccinated = 100 - vaccinated\n",
    "plt.figure(figsize=(5, 5))\n",
    "plt.pie([vaccinated, unvaccinated],\n",
    "labels=['Vaccinated', 'Unvaccinated'],\n",
    "autopct='%1.1f%%',\n",
    "colors=['green', 'lightgray'])\n",
    "plt.title(f\"{row['location']} - Vaccination Status\")\n",
    "plt.tight_layout()\n",
    "plt.show()\n"
   ]
  },
  {
   "cell_type": "code",
   "execution_count": null,
   "id": "5266a980-a861-4023-963d-c271820e5e1a",
   "metadata": {},
   "outputs": [],
   "source": [
    "# Load the dataset\n",
    "df = pd.read_csv(\"https://covid.ourworldindata.org/data/owid-covid-data.csv\")\n",
    "# Convert 'date' to datetime\n",
    "df['date'] = pd.to_datetime(df['date'])\n",
    "# Get latest data per country\n",
    "latest_df = df.sort_values('date').groupby('iso_code', as_index=False).last()\n",
    "# Filter out aggregate rows (e.g., continents, World)\n",
    "latest_df = latest_df[latest_df['iso_code'].str.len() == 3]\n",
    "# Create choropleth\n",
    "fig = px.choropleth(\n",
    "latest_df,\n",
    "locations='iso_code',\n",
    "color='total_cases',\n",
    "hover_name='location',\n",
    "color_continuous_scale='Reds',\n",
    "title='Total COVID-19 Cases by Country (Latest Available Data)'\n",
    ")\n",
    "fig.show()\n"
   ]
  }
 ],
 "metadata": {
  "kernelspec": {
   "display_name": "anaconda-panel-2023.05-py310",
   "language": "python",
   "name": "conda-env-anaconda-panel-2023.05-py310-py"
  },
  "language_info": {
   "codemirror_mode": {
    "name": "ipython",
    "version": 3
   },
   "file_extension": ".py",
   "mimetype": "text/x-python",
   "name": "python",
   "nbconvert_exporter": "python",
   "pygments_lexer": "ipython3",
   "version": "3.11.5"
  }
 },
 "nbformat": 4,
 "nbformat_minor": 5
}
